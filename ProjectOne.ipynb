{
  "nbformat": 4,
  "nbformat_minor": 0,
  "metadata": {
    "colab": {
      "provenance": [],
      "authorship_tag": "ABX9TyMm5t/PUIeJkFXXoVRkIGcN",
      "include_colab_link": true
    },
    "kernelspec": {
      "name": "python3",
      "display_name": "Python 3"
    },
    "language_info": {
      "name": "python"
    }
  },
  "cells": [
    {
      "cell_type": "markdown",
      "metadata": {
        "id": "view-in-github",
        "colab_type": "text"
      },
      "source": [
        "<a href=\"https://colab.research.google.com/github/Lazuli98/ProjectOne/blob/main/ProjectOne.ipynb\" target=\"_parent\"><img src=\"https://colab.research.google.com/assets/colab-badge.svg\" alt=\"Open In Colab\"/></a>"
      ]
    },
    {
      "cell_type": "markdown",
      "source": [
        "# **Project 1 - Part 1**"
      ],
      "metadata": {
        "id": "VZszJr4V4Hza"
      }
    },
    {
      "cell_type": "markdown",
      "source": [
        "Valendy Joseph"
      ],
      "metadata": {
        "id": "IJboeJLU4num"
      }
    },
    {
      "cell_type": "code",
      "source": [],
      "metadata": {
        "id": "RIrRsLXd40NL"
      },
      "execution_count": null,
      "outputs": []
    },
    {
      "cell_type": "markdown",
      "source": [
        "## Loading Data"
      ],
      "metadata": {
        "id": "CxpubUEo41En"
      }
    },
    {
      "cell_type": "code",
      "source": [],
      "metadata": {
        "id": "_1EgMLgo4-Mh"
      },
      "execution_count": null,
      "outputs": []
    },
    {
      "cell_type": "markdown",
      "source": [
        "## Data Cleaning"
      ],
      "metadata": {
        "id": "HBMg0SM04-41"
      }
    },
    {
      "cell_type": "code",
      "source": [],
      "metadata": {
        "id": "WOn8EMFC5C98"
      },
      "execution_count": null,
      "outputs": []
    },
    {
      "cell_type": "markdown",
      "source": [
        "## Exploratory Visuals"
      ],
      "metadata": {
        "id": "EAlyBMKe5Fv0"
      }
    },
    {
      "cell_type": "code",
      "source": [],
      "metadata": {
        "id": "cTxapTKa5Mby"
      },
      "execution_count": null,
      "outputs": []
    },
    {
      "cell_type": "markdown",
      "source": [
        "## Explanatory Visuals"
      ],
      "metadata": {
        "id": "Bdem1v5J5NLv"
      }
    },
    {
      "cell_type": "code",
      "source": [],
      "metadata": {
        "id": "HP997vbI5Srs"
      },
      "execution_count": null,
      "outputs": []
    }
  ]
}